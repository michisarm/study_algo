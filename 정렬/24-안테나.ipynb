{
 "cells": [
  {
   "cell_type": "markdown",
   "id": "385ecb13",
   "metadata": {},
   "source": [
    "[백준 문제풀이 링크](https://www.acmicpc.net/problem/18310)"
   ]
  },
  {
   "cell_type": "markdown",
   "id": "b91a4af2",
   "metadata": {},
   "source": [
    "# 문제 설명\n",
    "일직선 상의 마을에 여러 채의 집이 위치해 있다. 이중에서 특정 위치의 집에 특별히 한 개의 안테나를 설치하기로 결정했다.<br> 효율성을 위해 안테나로부터 모든 집까지의 거리의 총 합이 최소가 되도록 설치하려고 한다. 이 때 안테나는 집이 위치한 곳에만<br> 설치할 수 있고, 논리적으로 동일한 위치에 여러 개의 집이 존재하는 것이 가능하다.<br><br>\n",
    "\n",
    "집들의 위치 값이 주어질 때, 안테나를 설치할 위치를 선택하는 프로그램을 작성하시오.<br>\n",
    "\n",
    "예를 들어 N=4이고, 각 위치가 1, 5, 7, 9일 때를 가정하자.<br><br>\n",
    "\n",
    "- 1(H) - 2 - 3 - 4 - 5(H) - 6 - 7(H) - 8 - 9(H) - <br><br>\n",
    "\n",
    "이 경우 5의 위치에 설치했을 때, 안테나로부터 모든 집까지의 거리의 총 합이 (4+0+2+4)=10으로, 최소가 된다.<br>\n",
    "\n",
    "\n",
    "# 입력\n",
    "첫째 줄에 집의 수 N이 자연수로 주어진다. (1≤N≤200,000) 둘째 줄에 N채의 집에 위치가 공백을 기준으로 구분되어 1이상 100,000이하의 자연수로 주어진다.\n",
    "# 출력\n",
    "첫째 줄에 안테나를 설치할 위치의 값을 출력한다. 단, 안테나를 설치할 수 있는 위치 값으로 여러 개의 값이 도출될 경우 가장 작은 값을 출력한다. <br>\n",
    "\n",
    "# 예제 입력 1 <br>\n",
    "4 <br>\n",
    "5 1 7 9 <br>\n",
    "\n",
    "# 예제 출력 1 <br>\n",
    "5 <br><br>"
   ]
  },
  {
   "cell_type": "markdown",
   "id": "ed432efc",
   "metadata": {},
   "source": []
  },
  {
   "cell_type": "code",
   "execution_count": null,
   "id": "642d23d6",
   "metadata": {},
   "outputs": [
    {
     "name": "stdout",
     "output_type": "stream",
     "text": [
      "집의 수: <map object at 0x7fc328783520>\n",
      "집들의 위치: [5, 1, 7, 9]\n",
      "[1, 5, 7, 9]\n",
      "4\n"
     ]
    }
   ],
   "source": [
    "# 제출용\n",
    "\n",
    "# 테스트용\n",
    "input_value = \"\"\"\n",
    "4\n",
    "5 1 7 9\n",
    "\"\"\"\n",
    "lines = input_value.strip().split(\"\\n\")\n",
    "# 첫 번째 줄: N, K\n",
    "N = map(int, lines[0].split())\n",
    "# 다음 줄: \n",
    "houses = list(map(int, lines[1].split()))  # 둘째 줄: N개의 집의 위치\n",
    "\n",
    "print(f\"집의 수: {N}\")\n",
    "print(f\"집들의 위치: {houses}\")\n",
    "\n",
    "\n",
    "def solution():\n",
    "    houses.sort()\n",
    "    print(houses)\n",
    "    \n",
    "\n",
    "\n",
    "\n",
    "\n",
    "solution()"
   ]
  },
  {
   "cell_type": "markdown",
   "id": "ddcab46f",
   "metadata": {},
   "source": []
  },
  {
   "cell_type": "code",
   "execution_count": null,
   "id": "0c893cc2",
   "metadata": {},
   "outputs": [],
   "source": []
  },
  {
   "cell_type": "markdown",
   "id": "f15b3d3b",
   "metadata": {},
   "source": []
  },
  {
   "cell_type": "code",
   "execution_count": null,
   "id": "dc6390c0",
   "metadata": {},
   "outputs": [],
   "source": []
  }
 ],
 "metadata": {
  "kernelspec": {
   "display_name": "base",
   "language": "python",
   "name": "python3"
  },
  "language_info": {
   "codemirror_mode": {
    "name": "ipython",
    "version": 3
   },
   "file_extension": ".py",
   "mimetype": "text/x-python",
   "name": "python",
   "nbconvert_exporter": "python",
   "pygments_lexer": "ipython3",
   "version": "3.8.8"
  }
 },
 "nbformat": 4,
 "nbformat_minor": 5
}
