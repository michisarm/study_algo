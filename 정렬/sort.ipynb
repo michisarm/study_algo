{
 "cells": [
  {
   "cell_type": "code",
   "execution_count": null,
   "id": "18e1b281",
   "metadata": {},
   "outputs": [
    {
     "name": "stdout",
     "output_type": "stream",
     "text": [
      "[0, 1, 2, 3, 4, 5, 6, 7, 8, 9]\n"
     ]
    }
   ],
   "source": [
    "# 선택 정렬\n",
    "array = [7,5,9,0,3,1,6,2,4,8]\n",
    "\n",
    "for i in range(len(array)):\n",
    "    min_index = i\n",
    "    for j in range(i+1, len(array)):\n",
    "        if array[min_index] > array[j]:\n",
    "            min_index = j\n",
    "    array[i], array[min_index] = array[min_index], array[i]\n",
    "print(array)"
   ]
  },
  {
   "cell_type": "code",
   "execution_count": 23,
   "id": "2af1b0c0",
   "metadata": {},
   "outputs": [
    {
     "name": "stdout",
     "output_type": "stream",
     "text": [
      "1 1 [7, 5, 9, 0, 3, 1, 6, 2, 4, 8]\n",
      "2 2 [5, 7, 9, 0, 3, 1, 6, 2, 4, 8]\n",
      "break\n",
      "3 3 [5, 7, 9, 0, 3, 1, 6, 2, 4, 8]\n",
      "3 2 [5, 7, 0, 9, 3, 1, 6, 2, 4, 8]\n",
      "3 1 [5, 0, 7, 9, 3, 1, 6, 2, 4, 8]\n",
      "4 4 [0, 5, 7, 9, 3, 1, 6, 2, 4, 8]\n",
      "4 3 [0, 5, 7, 3, 9, 1, 6, 2, 4, 8]\n",
      "4 2 [0, 5, 3, 7, 9, 1, 6, 2, 4, 8]\n",
      "4 1 [0, 3, 5, 7, 9, 1, 6, 2, 4, 8]\n",
      "break\n",
      "5 5 [0, 3, 5, 7, 9, 1, 6, 2, 4, 8]\n",
      "5 4 [0, 3, 5, 7, 1, 9, 6, 2, 4, 8]\n",
      "5 3 [0, 3, 5, 1, 7, 9, 6, 2, 4, 8]\n",
      "5 2 [0, 3, 1, 5, 7, 9, 6, 2, 4, 8]\n",
      "5 1 [0, 1, 3, 5, 7, 9, 6, 2, 4, 8]\n",
      "break\n",
      "6 6 [0, 1, 3, 5, 7, 9, 6, 2, 4, 8]\n",
      "6 5 [0, 1, 3, 5, 7, 6, 9, 2, 4, 8]\n",
      "6 4 [0, 1, 3, 5, 6, 7, 9, 2, 4, 8]\n",
      "break\n",
      "7 7 [0, 1, 3, 5, 6, 7, 9, 2, 4, 8]\n",
      "7 6 [0, 1, 3, 5, 6, 7, 2, 9, 4, 8]\n",
      "7 5 [0, 1, 3, 5, 6, 2, 7, 9, 4, 8]\n",
      "7 4 [0, 1, 3, 5, 2, 6, 7, 9, 4, 8]\n",
      "7 3 [0, 1, 3, 2, 5, 6, 7, 9, 4, 8]\n",
      "7 2 [0, 1, 2, 3, 5, 6, 7, 9, 4, 8]\n",
      "break\n",
      "8 8 [0, 1, 2, 3, 5, 6, 7, 9, 4, 8]\n",
      "8 7 [0, 1, 2, 3, 5, 6, 7, 4, 9, 8]\n",
      "8 6 [0, 1, 2, 3, 5, 6, 4, 7, 9, 8]\n",
      "8 5 [0, 1, 2, 3, 5, 4, 6, 7, 9, 8]\n",
      "8 4 [0, 1, 2, 3, 4, 5, 6, 7, 9, 8]\n",
      "break\n",
      "9 9 [0, 1, 2, 3, 4, 5, 6, 7, 9, 8]\n",
      "9 8 [0, 1, 2, 3, 4, 5, 6, 7, 8, 9]\n",
      "break\n",
      "[0, 1, 2, 3, 4, 5, 6, 7, 8, 9]\n"
     ]
    }
   ],
   "source": [
    "# 삽입 정렬\n",
    "array = [7,5,9,0,3,1,6,2,4,8]\n",
    "\n",
    "for i in range(1, len(array)):\n",
    "    for j in range(i, 0, -1):\n",
    "        print(i, j, array)\n",
    "        if array[j] < array[j-1]:\n",
    "            array[j], array[j-1] = array[j-1], array[j]\n",
    "        else:\n",
    "            print('break')\n",
    "            break\n",
    "print(array)"
   ]
  },
  {
   "cell_type": "code",
   "execution_count": null,
   "id": "3bd38755",
   "metadata": {},
   "outputs": [
    {
     "name": "stdout",
     "output_type": "stream",
     "text": [
      "[0, 1, 2, 3, 4, 5, 6, 7, 8, 9]\n"
     ]
    }
   ],
   "source": [
    "# 퀵 정렬\n",
    "array = [5,7,9,0,3,1,6,2,4,8]\n",
    "\n",
    "def quick_sort(array, start, end):\n",
    "    if start >= end: # 원소가 1개인 경우 종료\n",
    "        return\n",
    "    pivot = start # 피벗은 첫 번째 원소\n",
    "    left = start + 1\n",
    "    right = end\n",
    "    while left <= right:\n",
    "        # 피벗보다 큰 데이터를 찾을 때까지 왼쪽으로 이동\n",
    "        while left <= end and array[left] <= array[pivot]:\n",
    "            left += 1\n",
    "        # 피벗보다 작은 데이터를 찾을 때까지 오른쪽으로 이동\n",
    "        while right > start and array[right] >= array[pivot]:\n",
    "            right -= 1\n",
    "        if left > right: # 엇갈렸다면 작은 데이터와 피벗을 교체\n",
    "            array[right], array[pivot] = array[pivot], array[right]\n",
    "        else: # 엇갈리지 않았다면 작은 데이터와 큰 데이터를 교체\n",
    "            array[left], array[right] = array[right], array[left]\n",
    "    # 분할 이후 왼쪽과 오른쪽 부분에서 각각 정렬 수행\n",
    "    quick_sort(array, start, right - 1)\n",
    "    quick_sort(array, right + 1, end)\n",
    "    \n",
    "quick_sort(array, 0, len(array) - 1)\n",
    "print(array)\n",
    "\n",
    "    "
   ]
  },
  {
   "cell_type": "code",
   "execution_count": 2,
   "id": "3bea6d09",
   "metadata": {},
   "outputs": [
    {
     "name": "stdout",
     "output_type": "stream",
     "text": [
      "[0, 1, 2, 3, 4, 5, 6, 7, 8, 9]\n"
     ]
    }
   ],
   "source": [
    "# 파이썬 퀵 정렬\n",
    "array = [5, 7, 9, 0, 3, 1, 6, 2, 4, 8]\n",
    "def quick_sort(array):\n",
    "    if len(array) <= 1:\n",
    "        return array\n",
    "    pivot = array[0]\n",
    "    tail = array[1:]\n",
    "    left_side = [x for x in tail if x <= pivot]\n",
    "    right_side = [x for x in tail if x > pivot]\n",
    "    return quick_sort(left_side) + [pivot] + quick_sort(right_side)\n",
    "print(quick_sort(array))"
   ]
  },
  {
   "cell_type": "code",
   "execution_count": 7,
   "id": "46b51f8a",
   "metadata": {},
   "outputs": [
    {
     "name": "stdout",
     "output_type": "stream",
     "text": [
      "0 0 1 1 2 2 3 4 5 5 6 7 8 9 9 "
     ]
    }
   ],
   "source": [
    "# 계수 정렬 소스코드\n",
    "array = [7, 5, 9, 0, 3, 1, 6, 2, 9, 1, 4, 8, 0, 5, 2]\n",
    "# 모든 범위를 포함하는 리스트 선언 (모든 값은 0으로 초기화)\n",
    "count = [0] * (max(array) + 1)\n",
    "\n",
    "# 각 데이터에 해당하는 인덱스의 값을 증가\n",
    "for i in range(len(array)):\n",
    "    count[array[i]] += 1\n",
    "\n",
    "# 리스트에 기록된 정렬 정보 확인\n",
    "for i in range(len(count)):\n",
    "    for j in range(count[i]):\n",
    "        print(i, end=' ') # 띄어쓰기를 구분으로 등장한 횟수만큼 인덱스 출력\n",
    "        \n"
   ]
  },
  {
   "cell_type": "code",
   "execution_count": null,
   "id": "6b67ed80",
   "metadata": {},
   "outputs": [],
   "source": []
  },
  {
   "cell_type": "code",
   "execution_count": null,
   "id": "e9575994",
   "metadata": {},
   "outputs": [],
   "source": []
  },
  {
   "cell_type": "code",
   "execution_count": null,
   "id": "dcda7e73",
   "metadata": {},
   "outputs": [],
   "source": []
  }
 ],
 "metadata": {
  "kernelspec": {
   "display_name": "base",
   "language": "python",
   "name": "python3"
  },
  "language_info": {
   "codemirror_mode": {
    "name": "ipython",
    "version": 3
   },
   "file_extension": ".py",
   "mimetype": "text/x-python",
   "name": "python",
   "nbconvert_exporter": "python",
   "pygments_lexer": "ipython3",
   "version": "3.8.8"
  }
 },
 "nbformat": 4,
 "nbformat_minor": 5
}
